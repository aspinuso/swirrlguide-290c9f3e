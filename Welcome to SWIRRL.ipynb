{
 "cells": [
  {
   "cell_type": "markdown",
   "id": "crude-lecture",
   "metadata": {},
   "source": [
    "# Welcome to SWIRRL!\n",
    "\n",
    "\n",
    "SWIRRL is webservice API that allows Science Gateways to easily integrate analysis tools in their websites. By combining storage and tools, such as ***Workflows**, **Jupyter notebooks** and **GitHub** repositories, SWIRRL creates dedicated and reproducible working environments. \n",
    "\n",
    "\n",
    "## The /data folder\n",
    "\n",
    "Thanks to the API's support for workflow and data-staging, SWIRRL workspaces are populated for you with data of interest,  collected from external data providers. If you are reading this page, it is likely that you have already requsted a web site to collect and provide you with a set of data in this notebook! \n",
    "\n",
    "SWIRRL manages all the data staged to the workspace in the ***/data*** folder. To make sure that your workspace is always consistent and your analysis reproducible, this is a 'read only' folder. However, you can always request to the web site to add more data for you here.\n",
    "\n",
    "### /data/latest\n",
    "\n",
    "***Is the data already staged to this workspace?*** \n",
    "\n",
    "Go check your ***/data/latest*** folder! Here you will always find the most updated version the data that is available for you to use.\n",
    "\n",
    "Not there yet? Click on the SWIRRL explorer ![enter image description here](https://assets.gitlab-static.net/uploads/-/system/project/avatar/17988184/Screenshot_2020-04-09_at_10.37.38.png?width=32)\n",
    "\n",
    "This useful extension will tell you whether the workflow copying the data is still running.  \n",
    "\n",
    "<img src=\"images/wfjob.png\" alt=\"wfjob\" style=\"height:300px;width:500px;\"/>\n",
    "\n",
    "You will read more about the functionalities of our SWIRRL extension later in this short guide!\n",
    "\n",
    "\n",
    "### /data/staginghistory\n",
    "\n",
    "Each time data is staged to your workspace, SWIRRL keeps track of the changes by maintaining a staging history. You will find this in the ***/data/staginghistory*** folder.\n",
    "\n",
    "<img src=\"images/staginghistory.png\" alt=\"wfjob\" style=\"height:260px;width:500px;\"/>\n",
    "\n",
    "\n",
    "Here, the ***stage.nnnn*** folders will preserve the state of your storage before the next staging workflow has been invoked. This will give you the opportuinity to always access previous version of the data. For instance, to reproduce analysis preformed on older versions fo the data and make comparisons.\n",
    "\n",
    "***How to know whether a file has been updated?***\n",
    "\n",
    "Files are available throughout the different stages, incrementally. Each ***stage.nnnn*** folder contains a ***swirrl_fileinfo.json***. Here you will find a complete record of metadata describing ***filename***, ***state***, ***id*** and ***sourceUrl*** of every of the file in your storage at a the given stage. The ***state** property can tell you whether the file is ***updated***, new, or unchanged.\n",
    "\n",
    "\n",
    "<img src=\"images/fileinfo.png\" alt=\"fileinfo\" style=\"height:400px;width:800px;\"/>\n",
    "\n",
    "\n",
    "## The SWIRRL Jupyter Extension\n",
    "\n",
    "SWIRRL in combination with JupyterLab, allows you to customise your workspace, share and reproduce the progress of your analysis. You can update and install new python libraries in your environtment or restore it a previous state. You can freeze and create snapshot of your notebook directly to your Github account or to a repository managed by your project. We will explain how you can perform and control these actions via the SWIRRL Jupyter Extension.\n",
    "\n",
    "\n",
    "### \n",
    "\n",
    "\n",
    "For instance, when changes to your environment made it unstable or not suitable for your purposes. \n",
    "\n",
    "Repositories are created for you in the form ***Binders***. These can be thereby shared with other users who can redeploy them obtaining a consistent copy of your workspace, wich include libraries, no\n",
    "\n",
    "\n"
   ]
  },
  {
   "cell_type": "markdown",
   "id": "celtic-turning",
   "metadata": {},
   "source": []
  },
  {
   "cell_type": "code",
   "execution_count": null,
   "id": "interstate-steps",
   "metadata": {},
   "outputs": [],
   "source": []
  }
 ],
 "metadata": {
  "kernelspec": {
   "display_name": "Python 3",
   "language": "python",
   "name": "python3"
  },
  "language_info": {
   "codemirror_mode": {
    "name": "ipython",
    "version": 3
   },
   "file_extension": ".py",
   "mimetype": "text/x-python",
   "name": "python",
   "nbconvert_exporter": "python",
   "pygments_lexer": "ipython3",
   "version": "3.8.8"
  }
 },
 "nbformat": 4,
 "nbformat_minor": 5
}
